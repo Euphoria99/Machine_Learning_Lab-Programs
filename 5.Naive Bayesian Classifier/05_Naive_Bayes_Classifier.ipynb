{
  "cells": [
    {
      "cell_type": "markdown",
      "id": "kl6XKC_u49LD",
      "metadata": {
        "id": "kl6XKC_u49LD"
      },
      "source": [
        "**5. Write a program to implement the naïve Bayesian classifier for a sample training data set stored as a .CSV file. Compute the accuracy of the classifier, considering few test data sets.**"
      ]
    },
    {
      "cell_type": "code",
      "execution_count": 1,
      "id": "4727aa8a",
      "metadata": {
        "id": "4727aa8a"
      },
      "outputs": [],
      "source": [
        "import csv\n",
        "import random\n",
        "import math\n",
        "\n"
      ]
    },
    {
      "cell_type": "code",
      "execution_count": 2,
      "id": "8cd61a1f",
      "metadata": {
        "id": "8cd61a1f"
      },
      "outputs": [],
      "source": [
        "def loadcsv(filename):\n",
        "    lines = csv.reader(open(filename, \"r\"));\n",
        "    dataset = list(lines)\n",
        "    for i in range(len(dataset)):\n",
        "        dataset[i] = [float(x) for x in dataset[i]]\n",
        "    return dataset\n",
        "\n"
      ]
    },
    {
      "cell_type": "code",
      "execution_count": 3,
      "id": "49c2ef63",
      "metadata": {
        "id": "49c2ef63"
      },
      "outputs": [],
      "source": [
        "def splitdataset(dataset, splitratio):\n",
        "    trainsize = int(len(dataset) * splitratio);\n",
        "    trainset = []\n",
        "    copy = list(dataset);\n",
        "    while len(trainset) < trainsize:\n",
        "        index = random.randrange(len(copy));\n",
        "        trainset.append(copy.pop(index))\n",
        "    return [trainset, copy]\n",
        "\n"
      ]
    },
    {
      "cell_type": "code",
      "execution_count": 4,
      "id": "47ba8c8f",
      "metadata": {
        "id": "47ba8c8f"
      },
      "outputs": [],
      "source": [
        "def separatebyclass(dataset):\n",
        "    separated = {} \n",
        "    for i in range(len(dataset)):\n",
        "        vector = dataset[i]\n",
        "        if (vector[-1] not in separated):\n",
        "            separated[vector[-1]] = []\n",
        "        separated[vector[-1]].append(vector)\n",
        "    return separated\n",
        "\n"
      ]
    },
    {
      "cell_type": "code",
      "execution_count": 5,
      "id": "aacdb0d3",
      "metadata": {
        "id": "aacdb0d3"
      },
      "outputs": [],
      "source": [
        "def mean(numbers):\n",
        "    return sum(numbers)/float(len(numbers))\n",
        "\n"
      ]
    },
    {
      "cell_type": "code",
      "execution_count": 6,
      "id": "2a2658f4",
      "metadata": {
        "id": "2a2658f4"
      },
      "outputs": [],
      "source": [
        "def stdev(numbers):\n",
        "    avg = mean(numbers)\n",
        "    variance = sum([pow(x-avg,2) for x in numbers])/float(len(numbers)-1)\n",
        "    return math.sqrt(variance)\n"
      ]
    },
    {
      "cell_type": "code",
      "execution_count": 7,
      "id": "fae14186",
      "metadata": {
        "id": "fae14186"
      },
      "outputs": [],
      "source": [
        "\n",
        "def summarize(dataset): \n",
        "    summaries = [(mean(attribute), stdev(attribute)) for attribute in zip(*dataset)];\n",
        "    del summaries[-1] \n",
        "    return summaries\n",
        "\n"
      ]
    },
    {
      "cell_type": "code",
      "execution_count": 8,
      "id": "1391dd17",
      "metadata": {
        "id": "1391dd17"
      },
      "outputs": [],
      "source": [
        "def summarizebyclass(dataset):\n",
        "    separated = separatebyclass(dataset);\n",
        "    summaries = {}\n",
        "    for classvalue, instances in separated.items():\n",
        "        summaries[classvalue] = summarize(instances)\n",
        "    return summaries\n",
        "\n"
      ]
    },
    {
      "cell_type": "code",
      "execution_count": 9,
      "id": "f6eb4f1d",
      "metadata": {
        "id": "f6eb4f1d"
      },
      "outputs": [],
      "source": [
        "def calculateprobability(x, mean, stdev):\n",
        "    exponent = math.exp(-(math.pow(x-mean,2)/(2*math.pow(stdev,2))))\n",
        "    return (1 / (math.sqrt(2*math.pi) * stdev)) * exponent\n",
        "\n"
      ]
    },
    {
      "cell_type": "code",
      "execution_count": 10,
      "id": "adfeafd0",
      "metadata": {
        "id": "adfeafd0"
      },
      "outputs": [],
      "source": [
        "def calculateclassprobabilities(summaries, inputvector):\n",
        "    probabilities = {}\n",
        "    for classvalue, classsummaries in summaries.items():\n",
        "        probabilities[classvalue] = 1\n",
        "        for i in range(len(classsummaries)):\n",
        "            mean, stdev = classsummaries[i] \n",
        "            x = inputvector[i]\n",
        "            probabilities[classvalue] *= calculateprobability(x, mean, stdev);\n",
        "    return probabilities\n",
        "\n"
      ]
    },
    {
      "cell_type": "code",
      "execution_count": 11,
      "id": "b9951ed5",
      "metadata": {
        "id": "b9951ed5"
      },
      "outputs": [],
      "source": [
        "def predict(summaries, inputvector): \n",
        "    probabilities = calculateclassprobabilities(summaries,inputvector)\n",
        "    bestLabel, bestProb = None, -1 \n",
        "    for classvalue, probability in probabilities.items():\n",
        "        if bestLabel is None or probability > bestProb:\n",
        "            bestProb = probability\n",
        "            bestLabel = classvalue\n",
        "    return bestLabel\n",
        "\n"
      ]
    },
    {
      "cell_type": "code",
      "execution_count": 12,
      "id": "41fda67a",
      "metadata": {
        "id": "41fda67a"
      },
      "outputs": [],
      "source": [
        "def getpredictions(summaries, testset):\n",
        "    predictions = []\n",
        "    for i in range(len(testset)):\n",
        "        result = predict(summaries, testset[i])\n",
        "        predictions.append(result)\n",
        "    return predictions\n",
        "\n"
      ]
    },
    {
      "cell_type": "code",
      "execution_count": 13,
      "id": "089025b0",
      "metadata": {
        "id": "089025b0"
      },
      "outputs": [],
      "source": [
        "def getaccuracy(testset, predictions):\n",
        "    correct = 0\n",
        "    for i in range(len(testset)):\n",
        "        if testset[i][-1] == predictions[i]:\n",
        "            correct += 1\n",
        "    return (correct/float(len(testset))) * 100.0\n",
        "\n"
      ]
    },
    {
      "cell_type": "code",
      "execution_count": 14,
      "id": "d4b8e494",
      "metadata": {
        "colab": {
          "base_uri": "https://localhost:8080/"
        },
        "id": "d4b8e494",
        "outputId": "499c7158-1ad2-4295-f57d-6a795ab0fa60"
      },
      "outputs": [
        {
          "name": "stdout",
          "output_type": "stream",
          "text": [
            "Split 768 rows into train=514 and test=254rows\n",
            "Accuracy of the classifier is :75.98425196850394%\n"
          ]
        }
      ],
      "source": [
        "def main():\n",
        "    # filename = '/home/sahyadri/Documents/prog5_dataset - prog5_dataset.csv'\n",
        "    filename = 'prog5_dataset.csv'\n",
        "    splitratio = 0.67\n",
        "    dataset = loadcsv(filename);\n",
        "    trainingset, testset = splitdataset(dataset, splitratio)\n",
        "    print('Split {0} rows into train={1} and test={2}rows'.format(len(dataset), len(trainingset), len(testset)))\n",
        "    summaries = summarizebyclass(trainingset);\n",
        "    predictions = getpredictions(summaries, testset)\n",
        "    accuracy = getaccuracy(testset, predictions)\n",
        "    print('Accuracy of the classifier is :{0}%'.format(accuracy))\n",
        "    \n",
        "main()"
      ]
    }
  ],
  "metadata": {
    "colab": {
      "name": "05.Naive-Bayes-Classifier.ipynb",
      "provenance": []
    },
    "kernelspec": {
      "display_name": "Python 3",
      "language": "python",
      "name": "python3"
    },
    "language_info": {
      "codemirror_mode": {
        "name": "ipython",
        "version": 3
      },
      "file_extension": ".py",
      "mimetype": "text/x-python",
      "name": "python",
      "nbconvert_exporter": "python",
      "pygments_lexer": "ipython3",
      "version": "3.8.8"
    }
  },
  "nbformat": 4,
  "nbformat_minor": 5
}
