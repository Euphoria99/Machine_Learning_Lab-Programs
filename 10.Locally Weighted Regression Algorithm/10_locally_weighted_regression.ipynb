{
  "nbformat": 4,
  "nbformat_minor": 0,
  "metadata": {
    "colab": {
      "name": "10.locally_weighted_regression.ipynb",
      "provenance": [],
      "collapsed_sections": []
    },
    "kernelspec": {
      "name": "python3",
      "display_name": "Python 3"
    },
    "language_info": {
      "name": "python"
    }
  },
  "cells": [
    {
      "cell_type": "markdown",
      "source": [
        "**10. Implement the non-parametric Locally Weighted Regression algorithm in order to fit data\n",
        "points. Select appropriate data set for your experiment and draw graphs.**"
      ],
      "metadata": {
        "id": "RZFZODaS2OPD"
      }
    },
    {
      "cell_type": "code",
      "source": [
        "from math import ceil\n",
        "import numpy as np\n",
        "from scipy import linalg"
      ],
      "metadata": {
        "id": "XIg39DCk2Urh"
      },
      "execution_count": 4,
      "outputs": []
    },
    {
      "cell_type": "code",
      "source": [
        "def lowess(x, y, f, iterations):\n",
        "    n = len(x)\n",
        "    r = int(ceil(f * n))\n",
        "    h = [np.sort(np.abs(x - x[i]))[r] for i in range(n)]\n",
        "    w = np.clip(np.abs((x[:, None] - x[None, :]) / h), 0.0, 1.0)\n",
        "    w = (1 - w ** 3) ** 3\n",
        "    yest = np.zeros(n)\n",
        "    delta = np.ones(n)\n",
        "    for iteration in range(iterations):\n",
        "        for i in range(n):\n",
        "            weights = delta * w[:, i]\n",
        "            b = np.array([np.sum(weights * y), np.sum(weights * y * x)])\n",
        "            A = np.array([[np.sum(weights), np.sum(weights * x)],[np.sum(weights * x), np.sum(weights * x * x)]])\n",
        "            beta = linalg.solve(A, b)\n",
        "            yest[i] = beta[0] + beta[1] * x[i]\n",
        "\n",
        "        residuals = y - yest\n",
        "        s = np.median(np.abs(residuals))\n",
        "        delta = np.clip(residuals / (6.0 * s), -1, 1)\n",
        "        delta = (1 - delta ** 2) ** 2\n",
        "\n",
        "    return yest\n"
      ],
      "metadata": {
        "id": "KGxs9eXU2Uub"
      },
      "execution_count": 5,
      "outputs": []
    },
    {
      "cell_type": "code",
      "source": [
        "import math\n",
        "n = 100\n",
        "x = np.linspace(0, 2 * math.pi, n)\n",
        "y = np.sin(x) + 0.3 * np.random.randn(n)\n",
        "f =0.25\n",
        "iterations=3\n",
        "yest = lowess(x, y, f, iterations)\n",
        "    \n",
        "import matplotlib.pyplot as plt\n",
        "plt.plot(x,y,\"r.\")\n",
        "plt.plot(x,yest,\"b-\")"
      ],
      "metadata": {
        "colab": {
          "base_uri": "https://localhost:8080/",
          "height": 282
        },
        "id": "EXLQB96s2UxK",
        "outputId": "12189b06-db97-4f8d-dcfc-54645721b3f1"
      },
      "execution_count": 6,
      "outputs": [
        {
          "output_type": "execute_result",
          "data": {
            "text/plain": [
              "[<matplotlib.lines.Line2D at 0x7fb9a51b3210>]"
            ]
          },
          "metadata": {},
          "execution_count": 6
        },
        {
          "output_type": "display_data",
          "data": {
            "image/png": "[encoded data removed]",
            "text/plain": [
              "<Figure size 432x288 with 1 Axes>"
            ]
          },
          "metadata": {
            "needs_background": "light"
          }
        }
      ]
    }
  ]
}